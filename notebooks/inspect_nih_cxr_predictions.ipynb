{
 "cells": [
  {
   "cell_type": "code",
   "execution_count": 8,
   "outputs": [],
   "source": [
    "import torch\n",
    "from torch import nn\n",
    "from sklearn.metrics import confusion_matrix\n",
    "from torchvision.models import resnet50\n",
    "from datasets.nih_cxr import NIHCXRDataset\n",
    "from tasks.binary_classification import BinaryClassificationTask\n",
    "\n",
    "saved_model_path = \"C:/Users/chaob/OneDrive - University of Toronto/Documents/EVLP X-ray Imaging Project/evlp_xray_cv/saved_models/pretrain_nihcxr/epoch=7-step=17399.ckpt\"  # Path to PyTorch Lightning Bolts .ckpt file\n",
    "data_dir = \"C:/Users/chaob/OneDrive - University of Toronto/Documents/EVLP X-ray Imaging Project/NIH_images_512p\"          # Path to NIX CXR data folder"
   ],
   "metadata": {
    "collapsed": false,
    "pycharm": {
     "name": "#%%\n"
    }
   }
  },
  {
   "cell_type": "code",
   "execution_count": 9,
   "outputs": [],
   "source": [
    "# Re-create the PyTorch Lightning Module and load it from the saved dictionary\n",
    "model = resnet50(pretrained=True)\n",
    "model.fc = nn.Linear(in_features=model.fc.in_features, out_features=1)\n",
    "task = BinaryClassificationTask.load_from_checkpoint(saved_model_path, model=model)\n",
    "model = task.model # This is your resnet (pre-trained on NIH CXR)\n",
    "\n",
    "task.eval()\n",
    "model = task.model"
   ],
   "metadata": {
    "collapsed": false,
    "pycharm": {
     "name": "#%%\n"
    }
   }
  },
  {
   "cell_type": "code",
   "execution_count": 10,
   "outputs": [],
   "source": [
    "val_dataset = NIHCXRDataset(data_dir, split='val', binary=True)"
   ],
   "metadata": {
    "collapsed": false,
    "pycharm": {
     "name": "#%%\n"
    }
   }
  },
  {
   "cell_type": "code",
   "execution_count": 11,
   "outputs": [],
   "source": [
    "# todo: for improvement\n",
    "#\n",
    "# 1. Right now we're getting predictions\n",
    "#    for one datapoint at a time, which is\n",
    "#    not very efficient. We can use a DataLoader\n",
    "#    to batch out Dataset and get predictions\n",
    "#    for batches at a time.\n",
    "#\n",
    "# 2. PyTorch Lightning has a bunch of metrics,\n",
    "#    and the confusion matrix is one of them.\n",
    "#    We would be able to compute the confusion\n",
    "#    matrix on-the-fly rather than at the end.\n",
    "\n",
    "ypreds = []\n",
    "labels = []\n",
    "for image, label in val_dataset:\n",
    "    with torch.no_grad():\n",
    "        ypred = model(image.unsqueeze(dim=0))\n",
    "    ypred = torch.sigmoid(ypred)\n",
    "    ypreds.append(ypred)\n",
    "    labels.append(label)\n",
    "ypreds = torch.stack(ypreds).reshape(-1)\n",
    "labels = torch.stack(labels)"
   ],
   "metadata": {
    "collapsed": false,
    "pycharm": {
     "name": "#%%\n"
    }
   }
  },
  {
   "cell_type": "code",
   "execution_count": 12,
   "outputs": [
    {
     "data": {
      "text/plain": "array([[6875, 3189],\n       [3213, 3652]], dtype=int64)"
     },
     "execution_count": 12,
     "metadata": {},
     "output_type": "execute_result"
    }
   ],
   "source": [
    "confusion_matrix(labels, (ypreds > 0.5).float())"
   ],
   "metadata": {
    "collapsed": false,
    "pycharm": {
     "name": "#%%\n"
    }
   }
  }
 ],
 "metadata": {
  "kernelspec": {
   "display_name": "Python 3",
   "language": "python",
   "name": "python3"
  },
  "language_info": {
   "codemirror_mode": {
    "name": "ipython",
    "version": 2
   },
   "file_extension": ".py",
   "mimetype": "text/x-python",
   "name": "python",
   "nbconvert_exporter": "python",
   "pygments_lexer": "ipython2",
   "version": "2.7.6"
  }
 },
 "nbformat": 4,
 "nbformat_minor": 0
}