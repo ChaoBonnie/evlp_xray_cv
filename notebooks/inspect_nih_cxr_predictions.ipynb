{
 "cells": [
  {
   "cell_type": "code",
   "execution_count": 78,
   "outputs": [],
   "source": [
    "import torch\n",
    "from torch import nn\n",
    "from sklearn.metrics import confusion_matrix\n",
    "from torchvision.models import resnet50\n",
    "from datasets.nih_cxr import NIHCXRDataset\n",
    "from tasks.binary_classification import BinaryClassificationTask\n",
    "\n",
    "saved_model_path = ...  # Path to PyTorch Lightning Bolts .ckpt file\n",
    "data_dir = ...          # Path to NIX CXR data folder"
   ],
   "metadata": {
    "collapsed": false,
    "pycharm": {
     "name": "#%%\n"
    }
   }
  },
  {
   "cell_type": "code",
   "execution_count": 37,
   "outputs": [
    {
     "name": "stderr",
     "output_type": "stream",
     "text": [
      "/home/eric/anaconda3/envs/pl_lightning_old/lib/python3.8/site-packages/torchmetrics/utilities/prints.py:36: UserWarning: Torchmetrics v0.9 introduced a new argument class property called `full_state_update` that has\n",
      "                not been set for this class (Accuracy). The property determines if `update` by\n",
      "                default needs access to the full metric state. If this is not the case, significant speedups can be\n",
      "                achieved and we recommend setting this to `False`.\n",
      "                We provide an checking function\n",
      "                `from torchmetrics.utilities import check_forward_no_full_state`\n",
      "                that can be used to check if the `full_state_update=True` (old and potential slower behaviour,\n",
      "                default for now) or if `full_state_update=False` can be used safely.\n",
      "                \n",
      "  warnings.warn(*args, **kwargs)\n"
     ]
    }
   ],
   "source": [
    "# Re-create the PyTorch Lightning Module and load it from the saved dictionary\n",
    "model = resnet50(pretrained=True)\n",
    "model.fc = nn.Linear(in_features=model.fc.in_features, out_features=1)\n",
    "task = BinaryClassificationTask.load_from_checkpoint(saved_model_path, model=model)\n",
    "task.eval()\n",
    "model = task.model"
   ],
   "metadata": {
    "collapsed": false,
    "pycharm": {
     "name": "#%%\n"
    }
   }
  },
  {
   "cell_type": "code",
   "execution_count": 38,
   "outputs": [],
   "source": [
    "val_dataset = NIHCXRDataset(data_dir, split='val', binary=True)"
   ],
   "metadata": {
    "collapsed": false,
    "pycharm": {
     "name": "#%%\n"
    }
   }
  },
  {
   "cell_type": "code",
   "execution_count": 92,
   "outputs": [],
   "source": [
    "# todo: for improvement\n",
    "#\n",
    "# 1. Right now we're getting predictions\n",
    "#    for one datapoint at a time, which is\n",
    "#    not very efficient. We can use a DataLoader\n",
    "#    to batch out Dataset and get predictions\n",
    "#    for batches at a time.\n",
    "#\n",
    "# 2. PyTorch Lightning has a bunch of metrics,\n",
    "#    and the confusion matrix is one of them.\n",
    "#    We would be able to compute the confusion\n",
    "#    matrix on-the-fly rather than at the end.\n",
    "\n",
    "ypreds = []\n",
    "labels = []\n",
    "for image, label in val_dataset:\n",
    "    with torch.no_grad():\n",
    "        ypred = model(image.unsqueeze(dim=0))\n",
    "    ypred = torch.sigmoid(ypred)\n",
    "    ypreds.append(ypred)\n",
    "    labels.append(label)\n",
    "ypreds = torch.stack(ypreds).reshape(-1)\n",
    "labels = torch.stack(labels)"
   ],
   "metadata": {
    "collapsed": false,
    "pycharm": {
     "name": "#%%\n"
    }
   }
  },
  {
   "cell_type": "code",
   "execution_count": 93,
   "outputs": [
    {
     "data": {
      "text/plain": "array([[2, 1],\n       [0, 1]])"
     },
     "execution_count": 93,
     "metadata": {},
     "output_type": "execute_result"
    }
   ],
   "source": [
    "confusion_matrix(labels, (ypreds > 0.5).float())"
   ],
   "metadata": {
    "collapsed": false,
    "pycharm": {
     "name": "#%%\n"
    }
   }
  }
 ],
 "metadata": {
  "kernelspec": {
   "display_name": "Python 3",
   "language": "python",
   "name": "python3"
  },
  "language_info": {
   "codemirror_mode": {
    "name": "ipython",
    "version": 2
   },
   "file_extension": ".py",
   "mimetype": "text/x-python",
   "name": "python",
   "nbconvert_exporter": "python",
   "pygments_lexer": "ipython2",
   "version": "2.7.6"
  }
 },
 "nbformat": 4,
 "nbformat_minor": 0
}